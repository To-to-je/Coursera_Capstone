{
 "cells": [
  {
   "cell_type": "markdown",
   "id": "305461c4-cf5b-4340-ac44-326892fc841d",
   "metadata": {},
   "source": [
    "<h1><center> Capstone Project </center></h1>\n",
    "\n",
    "##### Capstone project guided by Coursera. "
   ]
  },
  {
   "cell_type": "code",
   "execution_count": 1,
   "id": "4c95aee1-8ece-4fcd-87da-659ca049d20a",
   "metadata": {},
   "outputs": [
    {
     "name": "stdout",
     "output_type": "stream",
     "text": [
      "Hello Capstone Project Course\n"
     ]
    }
   ],
   "source": [
    "import pandas as pd\n",
    "import numpy as np\n",
    "\n",
    "print('Hello Capstone Project Course')"
   ]
  },
  {
   "cell_type": "code",
   "execution_count": null,
   "id": "7aae26f5-bc1c-483a-bc99-c851b290dc77",
   "metadata": {},
   "outputs": [],
   "source": []
  },
  {
   "cell_type": "code",
   "execution_count": null,
   "id": "971c1a2d-baf3-432e-8b7a-cae6d7bb13b9",
   "metadata": {},
   "outputs": [],
   "source": []
  },
  {
   "cell_type": "code",
   "execution_count": null,
   "id": "ca53d0f8-41ba-4ab3-bba7-b50c70c2000b",
   "metadata": {},
   "outputs": [],
   "source": []
  },
  {
   "cell_type": "code",
   "execution_count": null,
   "id": "43cba052-62c0-4cdf-ae61-9773de33643d",
   "metadata": {},
   "outputs": [],
   "source": []
  },
  {
   "cell_type": "code",
   "execution_count": null,
   "id": "8946155a-8cc9-4ad1-81ac-9c3950dffcc9",
   "metadata": {},
   "outputs": [],
   "source": []
  },
  {
   "cell_type": "code",
   "execution_count": null,
   "id": "49b6b1e8-d9e7-4703-8c2e-1bc730c30f49",
   "metadata": {},
   "outputs": [],
   "source": []
  }
 ],
 "metadata": {
  "kernelspec": {
   "display_name": "Python 3",
   "language": "python",
   "name": "python3"
  },
  "language_info": {
   "codemirror_mode": {
    "name": "ipython",
    "version": 3
   },
   "file_extension": ".py",
   "mimetype": "text/x-python",
   "name": "python",
   "nbconvert_exporter": "python",
   "pygments_lexer": "ipython3",
   "version": "3.8.8"
  }
 },
 "nbformat": 4,
 "nbformat_minor": 5
}
